{
 "cells": [
  {
   "cell_type": "code",
   "execution_count": 5,
   "id": "1dec8dd6-be40-4696-a506-534dd888ce5a",
   "metadata": {},
   "outputs": [],
   "source": [
    "import spotipy\n",
    "from spotipy.oauth2 import SpotifyClientCredentials\n",
    "from ytmusicapi import YTMusic\n",
    "import logging\n",
    "import os\n",
    "\n",
    "# Assumes you've created environmental variables from https://developer.spotify.com/dashboard/\n",
    "CID = os.environ.get('SPOTIFY_CLIENT_ID')\n",
    "CS = os.environ.get('SPOTIFY_CLIENT_SECRET')\n",
    "\n",
    "auth_manager = SpotifyClientCredentials(client_id=CID,client_secret=CS)\n",
    "sp = spotipy.Spotify(auth_manager=auth_manager)\n",
    "\n",
    "# Assumes you followed: https://ytmusicapi.readthedocs.io/en/latest/setup.html\n",
    "yt = YTMusic('headers_auth.json')\n",
    "\n",
    "logging.basicConfig(filename='songs.log', filemode='w', format='%(levelname)s - %(message)s', level=logging.INFO) "
   ]
  },
  {
   "cell_type": "code",
   "execution_count": 6,
   "id": "2507f930",
   "metadata": {},
   "outputs": [],
   "source": [
    "SPOTIFY_PLAYLIST_ID = 'SPID'\n",
    "\n",
    "# If new YouTube playlist\n",
    "YOUTUBE_PLAYLIST_NAME = 'NAME'\n",
    "YOUTUBE_PLAYLIST_DESCRIPTION = 'DESC'\n",
    "YOUTUBE_PLAYLIST_ID = yt.create_playlist(YOUTUBE_PLAYLIST_NAME,YOUTUBE_PLAYLIST_DESCRIPTION)\n",
    "\n",
    "# Switch commenting if you are adding to an already existing YouTube playlist\n",
    "# YOUTUBE_PLAYLIST_ID = \"YPID\""
   ]
  },
  {
   "cell_type": "code",
   "execution_count": 7,
   "id": "935ab524-49e5-4f61-a14e-56bac1b857e4",
   "metadata": {},
   "outputs": [],
   "source": [
    "# Check the number of time's we'll need to loop based on the # of songs in the playlist\n",
    "iterations = range(int(sp.playlist_items(SPOTIFY_PLAYLIST_ID,fields='total')['total']/100) + 1)\n",
    "\n",
    "playlist_tracks = []\n",
    "\n",
    "# Max requests at one time is 100, so we increment by that\n",
    "offset = 0\n",
    "for i in iterations:\n",
    "    playlist_tracks.extend(sp.playlist_items(SPOTIFY_PLAYLIST_ID, fields='items.track.name, items.track.artists', offset=offset)['items'])\n",
    "    offset += 100"
   ]
  },
  {
   "cell_type": "code",
   "execution_count": 8,
   "id": "6cb38cbe-f26c-4b26-80ec-5f80e1de8c46",
   "metadata": {},
   "outputs": [],
   "source": [
    "# Parse the song dictionary to create a search string using the song name and artists. Example: Return to Oz by Monolink, ARTBAT\n",
    "def get_song_search_string(song_dict: dict) -> str:\n",
    "    song_name = song_dict['track']['name'].split(' (')[0]\n",
    "    song_artists = ', '.join([artist['name'] for artist in song_dict['track']['artists']])\n",
    "    return(f\"{song_name} by {song_artists}\")"
   ]
  },
  {
   "cell_type": "code",
   "execution_count": 9,
   "id": "a3b8a1a9",
   "metadata": {},
   "outputs": [],
   "source": [
    "# Try to find the videoId returned by YouTube\n",
    "def parse_id(songs: list) -> str:\n",
    "    for song in songs:\n",
    "        id = song.get('videoId')\n",
    "        if song.get('videoId'):\n",
    "            return id\n",
    "        return None"
   ]
  },
  {
   "cell_type": "code",
   "execution_count": 10,
   "id": "3aedce41",
   "metadata": {},
   "outputs": [],
   "source": [
    "# TODO: Add the option to batch add songs to help reduce rate limit threshold. Seems like 5 is the max number of id's to send at once\n",
    "def batch_add(song_list: list, batch_number: int=5) -> None:\n",
    "    if batch_number is not batch_add.__defaults__[0]:\n",
    "        batch_number = batch_number\n",
    "    return yt.add_playlist_items(YOUTUBE_PLAYLIST_ID, videoIds=song_list)"
   ]
  },
  {
   "cell_type": "code",
   "execution_count": 11,
   "id": "3e975604-b999-4747-ae92-0223a9ee5017",
   "metadata": {},
   "outputs": [],
   "source": [
    "for track in playlist_tracks:\n",
    "    song_search_string = get_song_search_string(track)\n",
    "    song_results = yt.search(query=song_search_string, filter='songs')\n",
    "    video_id = parse_id(song_results)\n",
    "    if video_id:\n",
    "        resp = yt.add_playlist_items(YOUTUBE_PLAYLIST_ID, videoIds=[video_id])\n",
    "        status = resp['status']\n",
    "        if status == 'STATUS_SUCCEEDED':\n",
    "            logging.info(f'Succesfully added: {song_search_string}')\n",
    "        else:\n",
    "            error_text = resp['actions'][0]['addToToastAction']['item']['notificationActionRenderer']['responseText']['runs'][0]['text']\n",
    "            logging.error(f'Could not add: {song_search_string} due to: {error_text}')\n",
    "        continue\n",
    "    logging.info(f'Could not find videoId for {song_search_string} in {len(song_results)} results.')\n",
    "logging.info(f'Finished adding {len(playlist_tracks)} to {YOUTUBE_PLAYLIST_NAME} - {YOUTUBE_PLAYLIST_ID}')"
   ]
  },
  {
   "cell_type": "code",
   "execution_count": null,
   "id": "4a74e1ee",
   "metadata": {},
   "outputs": [],
   "source": []
  }
 ],
 "metadata": {
  "kernelspec": {
   "display_name": "sp2yt",
   "language": "python",
   "name": "sp2yt"
  },
  "language_info": {
   "codemirror_mode": {
    "name": "ipython",
    "version": 3
   },
   "file_extension": ".py",
   "mimetype": "text/x-python",
   "name": "python",
   "nbconvert_exporter": "python",
   "pygments_lexer": "ipython3",
   "version": "3.8.10"
  }
 },
 "nbformat": 4,
 "nbformat_minor": 5
}
